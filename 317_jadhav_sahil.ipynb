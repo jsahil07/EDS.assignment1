{
  "nbformat": 4,
  "nbformat_minor": 0,
  "metadata": {
    "colab": {
      "provenance": [],
      "mount_file_id": "1Q-1ZmPxuj0Y70czWdJx9XRss23DM2vdz",
      "authorship_tag": "ABX9TyPXe2fTg5Cd+erTMht0ahRA",
      "include_colab_link": true
    },
    "kernelspec": {
      "name": "python3",
      "display_name": "Python 3"
    },
    "language_info": {
      "name": "python"
    }
  },
  "cells": [
    {
      "cell_type": "markdown",
      "metadata": {
        "id": "view-in-github",
        "colab_type": "text"
      },
      "source": [
        "<a href=\"https://colab.research.google.com/github/jsahil07/EDS.assignment1/blob/main/317_jadhav_sahil.ipynb\" target=\"_parent\"><img src=\"https://colab.research.google.com/assets/colab-badge.svg\" alt=\"Open In Colab\"/></a>"
      ]
    },
    {
      "cell_type": "code",
      "execution_count": null,
      "metadata": {
        "colab": {
          "base_uri": "https://localhost:8080/"
        },
        "id": "_0hI3Yec16i0",
        "outputId": "d3a0f70c-6f37-47f2-846d-b3e8120642a3"
      },
      "outputs": [
        {
          "output_type": "stream",
          "name": "stdout",
          "text": [
            "a as int: 25\n",
            "b as long 548468\n",
            "c as float 14.25\n",
            "d as complex 3.14j\n",
            "welcome to python\n",
            "(21, 'python', 21, 45)\n",
            "{'Aradhana': 21, 'prarthana': 100, 'rugved': 23}\n"
          ]
        }
      ],
      "source": [
        "\n",
        "a=25\n",
        "print(\"a as int:\",a)\n",
        "b=548468\n",
        "print(\"b as long\",b)\n",
        "c=14.25\n",
        "print(\"c as float\",c)\n",
        "d=3.14j\n",
        "print(\"d as complex\",d)\n",
        "str1=\"welcome to python\"\n",
        "print(str1)\n",
        "\n",
        "t1=(21,\"python\",21,45)\n",
        "print(t1)\n",
        "d1={\"Aradhana\" : 21, \"prarthana\" :100,\"rugved\" :23}\n",
        "print(d1)\n"
      ]
    },
    {
      "cell_type": "code",
      "source": [],
      "metadata": {
        "id": "r30eufUjCs2s"
      },
      "execution_count": null,
      "outputs": []
    },
    {
      "cell_type": "code",
      "source": [
        "import pandas as pd\n",
        "df=pd.read_excel(r'/content/drive/MyDrive/Colab Notebooks/EMPLOYE317.xlsx')\n",
        "print(df)\n",
        "df1=pd.read_excel(r'/content/drive/MyDrive/Colab Notebooks/SALARY.317.xlsx')\n",
        "print(df1)"
      ],
      "metadata": {
        "colab": {
          "base_uri": "https://localhost:8080/"
        },
        "id": "U2y-GtXyMM57",
        "outputId": "284c1e9d-2f6b-4ea8-bdd1-bc310c756411"
      },
      "execution_count": null,
      "outputs": [
        {
          "output_type": "stream",
          "name": "stdout",
          "text": [
            "    SR.NO  EMPLOYE ID EMPLOYE NAME        DOB  AGE\n",
            "0       1         101        JAMES 1983-08-11   39\n",
            "1       2         102       ROBERT 1986-05-13   36\n",
            "2       3         103         JHON 1996-06-01   26\n",
            "3       4         104      MICHAEL 1989-07-23   33\n",
            "4       5         105        DAVID 1984-07-28   38\n",
            "5       6         106     WILLIAM  1990-06-13   32\n",
            "6       7         107      RICHARD 1987-10-18   35\n",
            "7       8         108       JOSHEP 1992-02-11   31\n",
            "8       9         109       THOMAS 1986-12-29   26\n",
            "9      10         110      CHARLES 1982-08-13   36\n",
            "10     11         111       DANIEL 1992-09-13   40\n",
            "11     12         112          ROY 1992-01-19   30\n",
            "12     13         113         MARK 1982-07-23   31\n",
            "13     14         114        PAUL  1982-10-10   40\n",
            "14     15         115       STEVEN 1983-05-05   40\n",
            "15     16         116          TOM 1984-06-12   39\n",
            "16     17         117        JERRY 1989-12-07   33\n",
            "17     18         118     DOREMON' 1989-01-08   33\n",
            "18     19         119      MR.BEAN 1985-03-28   38\n",
            "19     20         120         OGGY 1992-12-12   31\n",
            "    SR.NO  EMPLOYE ID EMPLOYE NAME  SALARY\n",
            "0       1         101        JAMES  100000\n",
            "1       2         102       ROBERT   90000\n",
            "2       3         103         JHON   80000\n",
            "3       4         104      MICHAEL   70000\n",
            "4       5         105        DAVID   60000\n",
            "5       6         106     WILLIAM    50000\n",
            "6       7         107      RICHARD   40000\n",
            "7       8         108       JOSHEP   30000\n",
            "8       9         109       THOMAS   20000\n",
            "9      10         110      CHARLES   75000\n",
            "10     11         111       DANIEL   95000\n",
            "11     12         112          ROY   85000\n",
            "12     13         113         MARK   65000\n",
            "13     14         114        PAUL    55000\n",
            "14     15         115       STEVEN   45000\n",
            "15     16         116          TOM   35000\n",
            "16     17         117        JERRY  250000\n",
            "17     18         118     DOREMON'   77000\n",
            "18     19         119      MR.BEAN   98000\n",
            "19     20         120         OGGY   73000\n"
          ]
        }
      ]
    },
    {
      "cell_type": "code",
      "source": [
        "import pandas as pd\n",
        "df1.sort_values(by=['SALARY'])"
      ],
      "metadata": {
        "colab": {
          "base_uri": "https://localhost:8080/",
          "height": 676
        },
        "id": "hHOSMGZhd_XW",
        "outputId": "d696785c-784a-4cc2-8556-1795a5d334a3"
      },
      "execution_count": null,
      "outputs": [
        {
          "output_type": "execute_result",
          "data": {
            "text/plain": [
              "    SR.NO  EMPLOYE ID EMPLOYE NAME  SALARY\n",
              "8       9         109       THOMAS   20000\n",
              "7       8         108       JOSHEP   30000\n",
              "15     16         116          TOM   35000\n",
              "6       7         107      RICHARD   40000\n",
              "14     15         115       STEVEN   45000\n",
              "5       6         106     WILLIAM    50000\n",
              "13     14         114        PAUL    55000\n",
              "4       5         105        DAVID   60000\n",
              "12     13         113         MARK   65000\n",
              "3       4         104      MICHAEL   70000\n",
              "19     20         120         OGGY   73000\n",
              "9      10         110      CHARLES   75000\n",
              "17     18         118     DOREMON'   77000\n",
              "2       3         103         JHON   80000\n",
              "11     12         112          ROY   85000\n",
              "1       2         102       ROBERT   90000\n",
              "10     11         111       DANIEL   95000\n",
              "18     19         119      MR.BEAN   98000\n",
              "0       1         101        JAMES  100000\n",
              "16     17         117        JERRY  250000"
            ],
            "text/html": [
              "\n",
              "  <div id=\"df-e52070fd-8562-4805-8c83-7037e558d6b2\">\n",
              "    <div class=\"colab-df-container\">\n",
              "      <div>\n",
              "<style scoped>\n",
              "    .dataframe tbody tr th:only-of-type {\n",
              "        vertical-align: middle;\n",
              "    }\n",
              "\n",
              "    .dataframe tbody tr th {\n",
              "        vertical-align: top;\n",
              "    }\n",
              "\n",
              "    .dataframe thead th {\n",
              "        text-align: right;\n",
              "    }\n",
              "</style>\n",
              "<table border=\"1\" class=\"dataframe\">\n",
              "  <thead>\n",
              "    <tr style=\"text-align: right;\">\n",
              "      <th></th>\n",
              "      <th>SR.NO</th>\n",
              "      <th>EMPLOYE ID</th>\n",
              "      <th>EMPLOYE NAME</th>\n",
              "      <th>SALARY</th>\n",
              "    </tr>\n",
              "  </thead>\n",
              "  <tbody>\n",
              "    <tr>\n",
              "      <th>8</th>\n",
              "      <td>9</td>\n",
              "      <td>109</td>\n",
              "      <td>THOMAS</td>\n",
              "      <td>20000</td>\n",
              "    </tr>\n",
              "    <tr>\n",
              "      <th>7</th>\n",
              "      <td>8</td>\n",
              "      <td>108</td>\n",
              "      <td>JOSHEP</td>\n",
              "      <td>30000</td>\n",
              "    </tr>\n",
              "    <tr>\n",
              "      <th>15</th>\n",
              "      <td>16</td>\n",
              "      <td>116</td>\n",
              "      <td>TOM</td>\n",
              "      <td>35000</td>\n",
              "    </tr>\n",
              "    <tr>\n",
              "      <th>6</th>\n",
              "      <td>7</td>\n",
              "      <td>107</td>\n",
              "      <td>RICHARD</td>\n",
              "      <td>40000</td>\n",
              "    </tr>\n",
              "    <tr>\n",
              "      <th>14</th>\n",
              "      <td>15</td>\n",
              "      <td>115</td>\n",
              "      <td>STEVEN</td>\n",
              "      <td>45000</td>\n",
              "    </tr>\n",
              "    <tr>\n",
              "      <th>5</th>\n",
              "      <td>6</td>\n",
              "      <td>106</td>\n",
              "      <td>WILLIAM</td>\n",
              "      <td>50000</td>\n",
              "    </tr>\n",
              "    <tr>\n",
              "      <th>13</th>\n",
              "      <td>14</td>\n",
              "      <td>114</td>\n",
              "      <td>PAUL</td>\n",
              "      <td>55000</td>\n",
              "    </tr>\n",
              "    <tr>\n",
              "      <th>4</th>\n",
              "      <td>5</td>\n",
              "      <td>105</td>\n",
              "      <td>DAVID</td>\n",
              "      <td>60000</td>\n",
              "    </tr>\n",
              "    <tr>\n",
              "      <th>12</th>\n",
              "      <td>13</td>\n",
              "      <td>113</td>\n",
              "      <td>MARK</td>\n",
              "      <td>65000</td>\n",
              "    </tr>\n",
              "    <tr>\n",
              "      <th>3</th>\n",
              "      <td>4</td>\n",
              "      <td>104</td>\n",
              "      <td>MICHAEL</td>\n",
              "      <td>70000</td>\n",
              "    </tr>\n",
              "    <tr>\n",
              "      <th>19</th>\n",
              "      <td>20</td>\n",
              "      <td>120</td>\n",
              "      <td>OGGY</td>\n",
              "      <td>73000</td>\n",
              "    </tr>\n",
              "    <tr>\n",
              "      <th>9</th>\n",
              "      <td>10</td>\n",
              "      <td>110</td>\n",
              "      <td>CHARLES</td>\n",
              "      <td>75000</td>\n",
              "    </tr>\n",
              "    <tr>\n",
              "      <th>17</th>\n",
              "      <td>18</td>\n",
              "      <td>118</td>\n",
              "      <td>DOREMON'</td>\n",
              "      <td>77000</td>\n",
              "    </tr>\n",
              "    <tr>\n",
              "      <th>2</th>\n",
              "      <td>3</td>\n",
              "      <td>103</td>\n",
              "      <td>JHON</td>\n",
              "      <td>80000</td>\n",
              "    </tr>\n",
              "    <tr>\n",
              "      <th>11</th>\n",
              "      <td>12</td>\n",
              "      <td>112</td>\n",
              "      <td>ROY</td>\n",
              "      <td>85000</td>\n",
              "    </tr>\n",
              "    <tr>\n",
              "      <th>1</th>\n",
              "      <td>2</td>\n",
              "      <td>102</td>\n",
              "      <td>ROBERT</td>\n",
              "      <td>90000</td>\n",
              "    </tr>\n",
              "    <tr>\n",
              "      <th>10</th>\n",
              "      <td>11</td>\n",
              "      <td>111</td>\n",
              "      <td>DANIEL</td>\n",
              "      <td>95000</td>\n",
              "    </tr>\n",
              "    <tr>\n",
              "      <th>18</th>\n",
              "      <td>19</td>\n",
              "      <td>119</td>\n",
              "      <td>MR.BEAN</td>\n",
              "      <td>98000</td>\n",
              "    </tr>\n",
              "    <tr>\n",
              "      <th>0</th>\n",
              "      <td>1</td>\n",
              "      <td>101</td>\n",
              "      <td>JAMES</td>\n",
              "      <td>100000</td>\n",
              "    </tr>\n",
              "    <tr>\n",
              "      <th>16</th>\n",
              "      <td>17</td>\n",
              "      <td>117</td>\n",
              "      <td>JERRY</td>\n",
              "      <td>250000</td>\n",
              "    </tr>\n",
              "  </tbody>\n",
              "</table>\n",
              "</div>\n",
              "      <button class=\"colab-df-convert\" onclick=\"convertToInteractive('df-e52070fd-8562-4805-8c83-7037e558d6b2')\"\n",
              "              title=\"Convert this dataframe to an interactive table.\"\n",
              "              style=\"display:none;\">\n",
              "        \n",
              "  <svg xmlns=\"http://www.w3.org/2000/svg\" height=\"24px\"viewBox=\"0 0 24 24\"\n",
              "       width=\"24px\">\n",
              "    <path d=\"M0 0h24v24H0V0z\" fill=\"none\"/>\n",
              "    <path d=\"M18.56 5.44l.94 2.06.94-2.06 2.06-.94-2.06-.94-.94-2.06-.94 2.06-2.06.94zm-11 1L8.5 8.5l.94-2.06 2.06-.94-2.06-.94L8.5 2.5l-.94 2.06-2.06.94zm10 10l.94 2.06.94-2.06 2.06-.94-2.06-.94-.94-2.06-.94 2.06-2.06.94z\"/><path d=\"M17.41 7.96l-1.37-1.37c-.4-.4-.92-.59-1.43-.59-.52 0-1.04.2-1.43.59L10.3 9.45l-7.72 7.72c-.78.78-.78 2.05 0 2.83L4 21.41c.39.39.9.59 1.41.59.51 0 1.02-.2 1.41-.59l7.78-7.78 2.81-2.81c.8-.78.8-2.07 0-2.86zM5.41 20L4 18.59l7.72-7.72 1.47 1.35L5.41 20z\"/>\n",
              "  </svg>\n",
              "      </button>\n",
              "      \n",
              "  <style>\n",
              "    .colab-df-container {\n",
              "      display:flex;\n",
              "      flex-wrap:wrap;\n",
              "      gap: 12px;\n",
              "    }\n",
              "\n",
              "    .colab-df-convert {\n",
              "      background-color: #E8F0FE;\n",
              "      border: none;\n",
              "      border-radius: 50%;\n",
              "      cursor: pointer;\n",
              "      display: none;\n",
              "      fill: #1967D2;\n",
              "      height: 32px;\n",
              "      padding: 0 0 0 0;\n",
              "      width: 32px;\n",
              "    }\n",
              "\n",
              "    .colab-df-convert:hover {\n",
              "      background-color: #E2EBFA;\n",
              "      box-shadow: 0px 1px 2px rgba(60, 64, 67, 0.3), 0px 1px 3px 1px rgba(60, 64, 67, 0.15);\n",
              "      fill: #174EA6;\n",
              "    }\n",
              "\n",
              "    [theme=dark] .colab-df-convert {\n",
              "      background-color: #3B4455;\n",
              "      fill: #D2E3FC;\n",
              "    }\n",
              "\n",
              "    [theme=dark] .colab-df-convert:hover {\n",
              "      background-color: #434B5C;\n",
              "      box-shadow: 0px 1px 3px 1px rgba(0, 0, 0, 0.15);\n",
              "      filter: drop-shadow(0px 1px 2px rgba(0, 0, 0, 0.3));\n",
              "      fill: #FFFFFF;\n",
              "    }\n",
              "  </style>\n",
              "\n",
              "      <script>\n",
              "        const buttonEl =\n",
              "          document.querySelector('#df-e52070fd-8562-4805-8c83-7037e558d6b2 button.colab-df-convert');\n",
              "        buttonEl.style.display =\n",
              "          google.colab.kernel.accessAllowed ? 'block' : 'none';\n",
              "\n",
              "        async function convertToInteractive(key) {\n",
              "          const element = document.querySelector('#df-e52070fd-8562-4805-8c83-7037e558d6b2');\n",
              "          const dataTable =\n",
              "            await google.colab.kernel.invokeFunction('convertToInteractive',\n",
              "                                                     [key], {});\n",
              "          if (!dataTable) return;\n",
              "\n",
              "          const docLinkHtml = 'Like what you see? Visit the ' +\n",
              "            '<a target=\"_blank\" href=https://colab.research.google.com/notebooks/data_table.ipynb>data table notebook</a>'\n",
              "            + ' to learn more about interactive tables.';\n",
              "          element.innerHTML = '';\n",
              "          dataTable['output_type'] = 'display_data';\n",
              "          await google.colab.output.renderOutput(dataTable, element);\n",
              "          const docLink = document.createElement('div');\n",
              "          docLink.innerHTML = docLinkHtml;\n",
              "          element.appendChild(docLink);\n",
              "        }\n",
              "      </script>\n",
              "    </div>\n",
              "  </div>\n",
              "  "
            ]
          },
          "metadata": {},
          "execution_count": 8
        }
      ]
    },
    {
      "cell_type": "code",
      "source": [
        "import pandas as pd\n",
        "df1.sort_values(by=['Salary'],ascending=False)"
      ],
      "metadata": {
        "colab": {
          "base_uri": "https://localhost:8080/",
          "height": 677
        },
        "id": "lBwqZb9oeOWj",
        "outputId": "a2a94fe7-ed32-4ca9-872a-8301ebd5fc27"
      },
      "execution_count": null,
      "outputs": [
        {
          "output_type": "execute_result",
          "data": {
            "text/plain": [
              "    sr.no  emp  id          emp name  Salary\n",
              "0       1      401      rohit jagtap   90000\n",
              "5       6      406    vaibhav jadhav   90000\n",
              "6       7      407    shambho dhange   80000\n",
              "19     20      420    shubham jadhav   80000\n",
              "11     12      412      aditya palve   60000\n",
              "10     11      411     vedhant pawar   60000\n",
              "15     16      416     rushi gawande    9600\n",
              "12     13      413     prajwal ganar    9500\n",
              "13     14      414     tejes gophane    9500\n",
              "14     15      415           swarup     9400\n",
              "3       4      404  sudharshan hasle    8600\n",
              "8       9      409      shyam yadhav    8600\n",
              "2       3      403    aditya kangule    8500\n",
              "7       8      408    shivraj jagtap    8500\n",
              "4       5      405          saibhudh    8400\n",
              "9      10      410          om pawar    8400\n",
              "1       2      402          om borle    8000\n",
              "17     18      418             akash    7600\n",
              "16     17      417             rohan    7500\n",
              "18     19      419   jubar maindarge    7500"
            ],
            "text/html": [
              "\n",
              "  <div id=\"df-ebe71d93-f74e-4993-a066-d24d0736746a\">\n",
              "    <div class=\"colab-df-container\">\n",
              "      <div>\n",
              "<style scoped>\n",
              "    .dataframe tbody tr th:only-of-type {\n",
              "        vertical-align: middle;\n",
              "    }\n",
              "\n",
              "    .dataframe tbody tr th {\n",
              "        vertical-align: top;\n",
              "    }\n",
              "\n",
              "    .dataframe thead th {\n",
              "        text-align: right;\n",
              "    }\n",
              "</style>\n",
              "<table border=\"1\" class=\"dataframe\">\n",
              "  <thead>\n",
              "    <tr style=\"text-align: right;\">\n",
              "      <th></th>\n",
              "      <th>sr.no</th>\n",
              "      <th>emp  id</th>\n",
              "      <th>emp name</th>\n",
              "      <th>Salary</th>\n",
              "    </tr>\n",
              "  </thead>\n",
              "  <tbody>\n",
              "    <tr>\n",
              "      <th>0</th>\n",
              "      <td>1</td>\n",
              "      <td>401</td>\n",
              "      <td>rohit jagtap</td>\n",
              "      <td>90000</td>\n",
              "    </tr>\n",
              "    <tr>\n",
              "      <th>5</th>\n",
              "      <td>6</td>\n",
              "      <td>406</td>\n",
              "      <td>vaibhav jadhav</td>\n",
              "      <td>90000</td>\n",
              "    </tr>\n",
              "    <tr>\n",
              "      <th>6</th>\n",
              "      <td>7</td>\n",
              "      <td>407</td>\n",
              "      <td>shambho dhange</td>\n",
              "      <td>80000</td>\n",
              "    </tr>\n",
              "    <tr>\n",
              "      <th>19</th>\n",
              "      <td>20</td>\n",
              "      <td>420</td>\n",
              "      <td>shubham jadhav</td>\n",
              "      <td>80000</td>\n",
              "    </tr>\n",
              "    <tr>\n",
              "      <th>11</th>\n",
              "      <td>12</td>\n",
              "      <td>412</td>\n",
              "      <td>aditya palve</td>\n",
              "      <td>60000</td>\n",
              "    </tr>\n",
              "    <tr>\n",
              "      <th>10</th>\n",
              "      <td>11</td>\n",
              "      <td>411</td>\n",
              "      <td>vedhant pawar</td>\n",
              "      <td>60000</td>\n",
              "    </tr>\n",
              "    <tr>\n",
              "      <th>15</th>\n",
              "      <td>16</td>\n",
              "      <td>416</td>\n",
              "      <td>rushi gawande</td>\n",
              "      <td>9600</td>\n",
              "    </tr>\n",
              "    <tr>\n",
              "      <th>12</th>\n",
              "      <td>13</td>\n",
              "      <td>413</td>\n",
              "      <td>prajwal ganar</td>\n",
              "      <td>9500</td>\n",
              "    </tr>\n",
              "    <tr>\n",
              "      <th>13</th>\n",
              "      <td>14</td>\n",
              "      <td>414</td>\n",
              "      <td>tejes gophane</td>\n",
              "      <td>9500</td>\n",
              "    </tr>\n",
              "    <tr>\n",
              "      <th>14</th>\n",
              "      <td>15</td>\n",
              "      <td>415</td>\n",
              "      <td>swarup</td>\n",
              "      <td>9400</td>\n",
              "    </tr>\n",
              "    <tr>\n",
              "      <th>3</th>\n",
              "      <td>4</td>\n",
              "      <td>404</td>\n",
              "      <td>sudharshan hasle</td>\n",
              "      <td>8600</td>\n",
              "    </tr>\n",
              "    <tr>\n",
              "      <th>8</th>\n",
              "      <td>9</td>\n",
              "      <td>409</td>\n",
              "      <td>shyam yadhav</td>\n",
              "      <td>8600</td>\n",
              "    </tr>\n",
              "    <tr>\n",
              "      <th>2</th>\n",
              "      <td>3</td>\n",
              "      <td>403</td>\n",
              "      <td>aditya kangule</td>\n",
              "      <td>8500</td>\n",
              "    </tr>\n",
              "    <tr>\n",
              "      <th>7</th>\n",
              "      <td>8</td>\n",
              "      <td>408</td>\n",
              "      <td>shivraj jagtap</td>\n",
              "      <td>8500</td>\n",
              "    </tr>\n",
              "    <tr>\n",
              "      <th>4</th>\n",
              "      <td>5</td>\n",
              "      <td>405</td>\n",
              "      <td>saibhudh</td>\n",
              "      <td>8400</td>\n",
              "    </tr>\n",
              "    <tr>\n",
              "      <th>9</th>\n",
              "      <td>10</td>\n",
              "      <td>410</td>\n",
              "      <td>om pawar</td>\n",
              "      <td>8400</td>\n",
              "    </tr>\n",
              "    <tr>\n",
              "      <th>1</th>\n",
              "      <td>2</td>\n",
              "      <td>402</td>\n",
              "      <td>om borle</td>\n",
              "      <td>8000</td>\n",
              "    </tr>\n",
              "    <tr>\n",
              "      <th>17</th>\n",
              "      <td>18</td>\n",
              "      <td>418</td>\n",
              "      <td>akash</td>\n",
              "      <td>7600</td>\n",
              "    </tr>\n",
              "    <tr>\n",
              "      <th>16</th>\n",
              "      <td>17</td>\n",
              "      <td>417</td>\n",
              "      <td>rohan</td>\n",
              "      <td>7500</td>\n",
              "    </tr>\n",
              "    <tr>\n",
              "      <th>18</th>\n",
              "      <td>19</td>\n",
              "      <td>419</td>\n",
              "      <td>jubar maindarge</td>\n",
              "      <td>7500</td>\n",
              "    </tr>\n",
              "  </tbody>\n",
              "</table>\n",
              "</div>\n",
              "      <button class=\"colab-df-convert\" onclick=\"convertToInteractive('df-ebe71d93-f74e-4993-a066-d24d0736746a')\"\n",
              "              title=\"Convert this dataframe to an interactive table.\"\n",
              "              style=\"display:none;\">\n",
              "        \n",
              "  <svg xmlns=\"http://www.w3.org/2000/svg\" height=\"24px\"viewBox=\"0 0 24 24\"\n",
              "       width=\"24px\">\n",
              "    <path d=\"M0 0h24v24H0V0z\" fill=\"none\"/>\n",
              "    <path d=\"M18.56 5.44l.94 2.06.94-2.06 2.06-.94-2.06-.94-.94-2.06-.94 2.06-2.06.94zm-11 1L8.5 8.5l.94-2.06 2.06-.94-2.06-.94L8.5 2.5l-.94 2.06-2.06.94zm10 10l.94 2.06.94-2.06 2.06-.94-2.06-.94-.94-2.06-.94 2.06-2.06.94z\"/><path d=\"M17.41 7.96l-1.37-1.37c-.4-.4-.92-.59-1.43-.59-.52 0-1.04.2-1.43.59L10.3 9.45l-7.72 7.72c-.78.78-.78 2.05 0 2.83L4 21.41c.39.39.9.59 1.41.59.51 0 1.02-.2 1.41-.59l7.78-7.78 2.81-2.81c.8-.78.8-2.07 0-2.86zM5.41 20L4 18.59l7.72-7.72 1.47 1.35L5.41 20z\"/>\n",
              "  </svg>\n",
              "      </button>\n",
              "      \n",
              "  <style>\n",
              "    .colab-df-container {\n",
              "      display:flex;\n",
              "      flex-wrap:wrap;\n",
              "      gap: 12px;\n",
              "    }\n",
              "\n",
              "    .colab-df-convert {\n",
              "      background-color: #E8F0FE;\n",
              "      border: none;\n",
              "      border-radius: 50%;\n",
              "      cursor: pointer;\n",
              "      display: none;\n",
              "      fill: #1967D2;\n",
              "      height: 32px;\n",
              "      padding: 0 0 0 0;\n",
              "      width: 32px;\n",
              "    }\n",
              "\n",
              "    .colab-df-convert:hover {\n",
              "      background-color: #E2EBFA;\n",
              "      box-shadow: 0px 1px 2px rgba(60, 64, 67, 0.3), 0px 1px 3px 1px rgba(60, 64, 67, 0.15);\n",
              "      fill: #174EA6;\n",
              "    }\n",
              "\n",
              "    [theme=dark] .colab-df-convert {\n",
              "      background-color: #3B4455;\n",
              "      fill: #D2E3FC;\n",
              "    }\n",
              "\n",
              "    [theme=dark] .colab-df-convert:hover {\n",
              "      background-color: #434B5C;\n",
              "      box-shadow: 0px 1px 3px 1px rgba(0, 0, 0, 0.15);\n",
              "      filter: drop-shadow(0px 1px 2px rgba(0, 0, 0, 0.3));\n",
              "      fill: #FFFFFF;\n",
              "    }\n",
              "  </style>\n",
              "\n",
              "      <script>\n",
              "        const buttonEl =\n",
              "          document.querySelector('#df-ebe71d93-f74e-4993-a066-d24d0736746a button.colab-df-convert');\n",
              "        buttonEl.style.display =\n",
              "          google.colab.kernel.accessAllowed ? 'block' : 'none';\n",
              "\n",
              "        async function convertToInteractive(key) {\n",
              "          const element = document.querySelector('#df-ebe71d93-f74e-4993-a066-d24d0736746a');\n",
              "          const dataTable =\n",
              "            await google.colab.kernel.invokeFunction('convertToInteractive',\n",
              "                                                     [key], {});\n",
              "          if (!dataTable) return;\n",
              "\n",
              "          const docLinkHtml = 'Like what you see? Visit the ' +\n",
              "            '<a target=\"_blank\" href=https://colab.research.google.com/notebooks/data_table.ipynb>data table notebook</a>'\n",
              "            + ' to learn more about interactive tables.';\n",
              "          element.innerHTML = '';\n",
              "          dataTable['output_type'] = 'display_data';\n",
              "          await google.colab.output.renderOutput(dataTable, element);\n",
              "          const docLink = document.createElement('div');\n",
              "          docLink.innerHTML = docLinkHtml;\n",
              "          element.appendChild(docLink);\n",
              "        }\n",
              "      </script>\n",
              "    </div>\n",
              "  </div>\n",
              "  "
            ]
          },
          "metadata": {},
          "execution_count": 5
        }
      ]
    },
    {
      "cell_type": "code",
      "source": [
        "def sal():\n",
        "  import pandas as pd\n",
        "  a= df1.sort_values(by=['SALARY'],ascending=False)\n",
        "\n",
        "  a.nlargest(5,'SALARY','first')\n",
        "  print(a)\n",
        "sal()"
      ],
      "metadata": {
        "colab": {
          "base_uri": "https://localhost:8080/"
        },
        "id": "WTxfJ3MLefcL",
        "outputId": "86b2b9e4-00bc-4dd3-a5bd-ac3445beb32a"
      },
      "execution_count": null,
      "outputs": [
        {
          "output_type": "stream",
          "name": "stdout",
          "text": [
            "    SR.NO  EMPLOYE ID EMPLOYE NAME  SALARY\n",
            "16     17         117        JERRY  250000\n",
            "0       1         101        JAMES  100000\n",
            "18     19         119      MR.BEAN   98000\n",
            "10     11         111       DANIEL   95000\n",
            "1       2         102       ROBERT   90000\n",
            "11     12         112          ROY   85000\n",
            "2       3         103         JHON   80000\n",
            "17     18         118     DOREMON'   77000\n",
            "9      10         110      CHARLES   75000\n",
            "19     20         120         OGGY   73000\n",
            "3       4         104      MICHAEL   70000\n",
            "12     13         113         MARK   65000\n",
            "4       5         105        DAVID   60000\n",
            "13     14         114        PAUL    55000\n",
            "5       6         106     WILLIAM    50000\n",
            "14     15         115       STEVEN   45000\n",
            "6       7         107      RICHARD   40000\n",
            "15     16         116          TOM   35000\n",
            "7       8         108       JOSHEP   30000\n",
            "8       9         109       THOMAS   20000\n"
          ]
        }
      ]
    },
    {
      "cell_type": "code",
      "source": [
        "import pandas as pd\n",
        "df=pd.read_excel(r'/content/drive/MyDrive/Colab Notebooks/EMPLOYE317.xlsx')\n",
        "df1=pd.read_excel(r'/content/drive/MyDrive/Colab Notebooks/SALARY.317.xlsx')\n",
        "a=pd.merge(df,df1)\n",
        "display(a)"
      ],
      "metadata": {
        "colab": {
          "base_uri": "https://localhost:8080/",
          "height": 676
        },
        "id": "faC2dfdt3s7V",
        "outputId": "fa1c0bfe-a016-46d3-ad05-fa5bec733b79"
      },
      "execution_count": null,
      "outputs": [
        {
          "output_type": "display_data",
          "data": {
            "text/plain": [
              "    SR.NO  EMPLOYE ID EMPLOYE NAME        DOB  AGE  SALARY\n",
              "0       1         101        JAMES 1983-08-11   39  100000\n",
              "1       2         102       ROBERT 1986-05-13   36   90000\n",
              "2       3         103         JHON 1996-06-01   26   80000\n",
              "3       4         104      MICHAEL 1989-07-23   33   70000\n",
              "4       5         105        DAVID 1984-07-28   38   60000\n",
              "5       6         106     WILLIAM  1990-06-13   32   50000\n",
              "6       7         107      RICHARD 1987-10-18   35   40000\n",
              "7       8         108       JOSHEP 1992-02-11   31   30000\n",
              "8       9         109       THOMAS 1986-12-29   26   20000\n",
              "9      10         110      CHARLES 1982-08-13   36   75000\n",
              "10     11         111       DANIEL 1992-09-13   40   95000\n",
              "11     12         112          ROY 1992-01-19   30   85000\n",
              "12     13         113         MARK 1982-07-23   31   65000\n",
              "13     14         114        PAUL  1982-10-10   40   55000\n",
              "14     15         115       STEVEN 1983-05-05   40   45000\n",
              "15     16         116          TOM 1984-06-12   39   35000\n",
              "16     17         117        JERRY 1989-12-07   33  250000\n",
              "17     18         118     DOREMON' 1989-01-08   33   77000\n",
              "18     19         119      MR.BEAN 1985-03-28   38   98000\n",
              "19     20         120         OGGY 1992-12-12   31   73000"
            ],
            "text/html": [
              "\n",
              "  <div id=\"df-c1493cd2-a73f-4cd9-b10a-adee145597fe\">\n",
              "    <div class=\"colab-df-container\">\n",
              "      <div>\n",
              "<style scoped>\n",
              "    .dataframe tbody tr th:only-of-type {\n",
              "        vertical-align: middle;\n",
              "    }\n",
              "\n",
              "    .dataframe tbody tr th {\n",
              "        vertical-align: top;\n",
              "    }\n",
              "\n",
              "    .dataframe thead th {\n",
              "        text-align: right;\n",
              "    }\n",
              "</style>\n",
              "<table border=\"1\" class=\"dataframe\">\n",
              "  <thead>\n",
              "    <tr style=\"text-align: right;\">\n",
              "      <th></th>\n",
              "      <th>SR.NO</th>\n",
              "      <th>EMPLOYE ID</th>\n",
              "      <th>EMPLOYE NAME</th>\n",
              "      <th>DOB</th>\n",
              "      <th>AGE</th>\n",
              "      <th>SALARY</th>\n",
              "    </tr>\n",
              "  </thead>\n",
              "  <tbody>\n",
              "    <tr>\n",
              "      <th>0</th>\n",
              "      <td>1</td>\n",
              "      <td>101</td>\n",
              "      <td>JAMES</td>\n",
              "      <td>1983-08-11</td>\n",
              "      <td>39</td>\n",
              "      <td>100000</td>\n",
              "    </tr>\n",
              "    <tr>\n",
              "      <th>1</th>\n",
              "      <td>2</td>\n",
              "      <td>102</td>\n",
              "      <td>ROBERT</td>\n",
              "      <td>1986-05-13</td>\n",
              "      <td>36</td>\n",
              "      <td>90000</td>\n",
              "    </tr>\n",
              "    <tr>\n",
              "      <th>2</th>\n",
              "      <td>3</td>\n",
              "      <td>103</td>\n",
              "      <td>JHON</td>\n",
              "      <td>1996-06-01</td>\n",
              "      <td>26</td>\n",
              "      <td>80000</td>\n",
              "    </tr>\n",
              "    <tr>\n",
              "      <th>3</th>\n",
              "      <td>4</td>\n",
              "      <td>104</td>\n",
              "      <td>MICHAEL</td>\n",
              "      <td>1989-07-23</td>\n",
              "      <td>33</td>\n",
              "      <td>70000</td>\n",
              "    </tr>\n",
              "    <tr>\n",
              "      <th>4</th>\n",
              "      <td>5</td>\n",
              "      <td>105</td>\n",
              "      <td>DAVID</td>\n",
              "      <td>1984-07-28</td>\n",
              "      <td>38</td>\n",
              "      <td>60000</td>\n",
              "    </tr>\n",
              "    <tr>\n",
              "      <th>5</th>\n",
              "      <td>6</td>\n",
              "      <td>106</td>\n",
              "      <td>WILLIAM</td>\n",
              "      <td>1990-06-13</td>\n",
              "      <td>32</td>\n",
              "      <td>50000</td>\n",
              "    </tr>\n",
              "    <tr>\n",
              "      <th>6</th>\n",
              "      <td>7</td>\n",
              "      <td>107</td>\n",
              "      <td>RICHARD</td>\n",
              "      <td>1987-10-18</td>\n",
              "      <td>35</td>\n",
              "      <td>40000</td>\n",
              "    </tr>\n",
              "    <tr>\n",
              "      <th>7</th>\n",
              "      <td>8</td>\n",
              "      <td>108</td>\n",
              "      <td>JOSHEP</td>\n",
              "      <td>1992-02-11</td>\n",
              "      <td>31</td>\n",
              "      <td>30000</td>\n",
              "    </tr>\n",
              "    <tr>\n",
              "      <th>8</th>\n",
              "      <td>9</td>\n",
              "      <td>109</td>\n",
              "      <td>THOMAS</td>\n",
              "      <td>1986-12-29</td>\n",
              "      <td>26</td>\n",
              "      <td>20000</td>\n",
              "    </tr>\n",
              "    <tr>\n",
              "      <th>9</th>\n",
              "      <td>10</td>\n",
              "      <td>110</td>\n",
              "      <td>CHARLES</td>\n",
              "      <td>1982-08-13</td>\n",
              "      <td>36</td>\n",
              "      <td>75000</td>\n",
              "    </tr>\n",
              "    <tr>\n",
              "      <th>10</th>\n",
              "      <td>11</td>\n",
              "      <td>111</td>\n",
              "      <td>DANIEL</td>\n",
              "      <td>1992-09-13</td>\n",
              "      <td>40</td>\n",
              "      <td>95000</td>\n",
              "    </tr>\n",
              "    <tr>\n",
              "      <th>11</th>\n",
              "      <td>12</td>\n",
              "      <td>112</td>\n",
              "      <td>ROY</td>\n",
              "      <td>1992-01-19</td>\n",
              "      <td>30</td>\n",
              "      <td>85000</td>\n",
              "    </tr>\n",
              "    <tr>\n",
              "      <th>12</th>\n",
              "      <td>13</td>\n",
              "      <td>113</td>\n",
              "      <td>MARK</td>\n",
              "      <td>1982-07-23</td>\n",
              "      <td>31</td>\n",
              "      <td>65000</td>\n",
              "    </tr>\n",
              "    <tr>\n",
              "      <th>13</th>\n",
              "      <td>14</td>\n",
              "      <td>114</td>\n",
              "      <td>PAUL</td>\n",
              "      <td>1982-10-10</td>\n",
              "      <td>40</td>\n",
              "      <td>55000</td>\n",
              "    </tr>\n",
              "    <tr>\n",
              "      <th>14</th>\n",
              "      <td>15</td>\n",
              "      <td>115</td>\n",
              "      <td>STEVEN</td>\n",
              "      <td>1983-05-05</td>\n",
              "      <td>40</td>\n",
              "      <td>45000</td>\n",
              "    </tr>\n",
              "    <tr>\n",
              "      <th>15</th>\n",
              "      <td>16</td>\n",
              "      <td>116</td>\n",
              "      <td>TOM</td>\n",
              "      <td>1984-06-12</td>\n",
              "      <td>39</td>\n",
              "      <td>35000</td>\n",
              "    </tr>\n",
              "    <tr>\n",
              "      <th>16</th>\n",
              "      <td>17</td>\n",
              "      <td>117</td>\n",
              "      <td>JERRY</td>\n",
              "      <td>1989-12-07</td>\n",
              "      <td>33</td>\n",
              "      <td>250000</td>\n",
              "    </tr>\n",
              "    <tr>\n",
              "      <th>17</th>\n",
              "      <td>18</td>\n",
              "      <td>118</td>\n",
              "      <td>DOREMON'</td>\n",
              "      <td>1989-01-08</td>\n",
              "      <td>33</td>\n",
              "      <td>77000</td>\n",
              "    </tr>\n",
              "    <tr>\n",
              "      <th>18</th>\n",
              "      <td>19</td>\n",
              "      <td>119</td>\n",
              "      <td>MR.BEAN</td>\n",
              "      <td>1985-03-28</td>\n",
              "      <td>38</td>\n",
              "      <td>98000</td>\n",
              "    </tr>\n",
              "    <tr>\n",
              "      <th>19</th>\n",
              "      <td>20</td>\n",
              "      <td>120</td>\n",
              "      <td>OGGY</td>\n",
              "      <td>1992-12-12</td>\n",
              "      <td>31</td>\n",
              "      <td>73000</td>\n",
              "    </tr>\n",
              "  </tbody>\n",
              "</table>\n",
              "</div>\n",
              "      <button class=\"colab-df-convert\" onclick=\"convertToInteractive('df-c1493cd2-a73f-4cd9-b10a-adee145597fe')\"\n",
              "              title=\"Convert this dataframe to an interactive table.\"\n",
              "              style=\"display:none;\">\n",
              "        \n",
              "  <svg xmlns=\"http://www.w3.org/2000/svg\" height=\"24px\"viewBox=\"0 0 24 24\"\n",
              "       width=\"24px\">\n",
              "    <path d=\"M0 0h24v24H0V0z\" fill=\"none\"/>\n",
              "    <path d=\"M18.56 5.44l.94 2.06.94-2.06 2.06-.94-2.06-.94-.94-2.06-.94 2.06-2.06.94zm-11 1L8.5 8.5l.94-2.06 2.06-.94-2.06-.94L8.5 2.5l-.94 2.06-2.06.94zm10 10l.94 2.06.94-2.06 2.06-.94-2.06-.94-.94-2.06-.94 2.06-2.06.94z\"/><path d=\"M17.41 7.96l-1.37-1.37c-.4-.4-.92-.59-1.43-.59-.52 0-1.04.2-1.43.59L10.3 9.45l-7.72 7.72c-.78.78-.78 2.05 0 2.83L4 21.41c.39.39.9.59 1.41.59.51 0 1.02-.2 1.41-.59l7.78-7.78 2.81-2.81c.8-.78.8-2.07 0-2.86zM5.41 20L4 18.59l7.72-7.72 1.47 1.35L5.41 20z\"/>\n",
              "  </svg>\n",
              "      </button>\n",
              "      \n",
              "  <style>\n",
              "    .colab-df-container {\n",
              "      display:flex;\n",
              "      flex-wrap:wrap;\n",
              "      gap: 12px;\n",
              "    }\n",
              "\n",
              "    .colab-df-convert {\n",
              "      background-color: #E8F0FE;\n",
              "      border: none;\n",
              "      border-radius: 50%;\n",
              "      cursor: pointer;\n",
              "      display: none;\n",
              "      fill: #1967D2;\n",
              "      height: 32px;\n",
              "      padding: 0 0 0 0;\n",
              "      width: 32px;\n",
              "    }\n",
              "\n",
              "    .colab-df-convert:hover {\n",
              "      background-color: #E2EBFA;\n",
              "      box-shadow: 0px 1px 2px rgba(60, 64, 67, 0.3), 0px 1px 3px 1px rgba(60, 64, 67, 0.15);\n",
              "      fill: #174EA6;\n",
              "    }\n",
              "\n",
              "    [theme=dark] .colab-df-convert {\n",
              "      background-color: #3B4455;\n",
              "      fill: #D2E3FC;\n",
              "    }\n",
              "\n",
              "    [theme=dark] .colab-df-convert:hover {\n",
              "      background-color: #434B5C;\n",
              "      box-shadow: 0px 1px 3px 1px rgba(0, 0, 0, 0.15);\n",
              "      filter: drop-shadow(0px 1px 2px rgba(0, 0, 0, 0.3));\n",
              "      fill: #FFFFFF;\n",
              "    }\n",
              "  </style>\n",
              "\n",
              "      <script>\n",
              "        const buttonEl =\n",
              "          document.querySelector('#df-c1493cd2-a73f-4cd9-b10a-adee145597fe button.colab-df-convert');\n",
              "        buttonEl.style.display =\n",
              "          google.colab.kernel.accessAllowed ? 'block' : 'none';\n",
              "\n",
              "        async function convertToInteractive(key) {\n",
              "          const element = document.querySelector('#df-c1493cd2-a73f-4cd9-b10a-adee145597fe');\n",
              "          const dataTable =\n",
              "            await google.colab.kernel.invokeFunction('convertToInteractive',\n",
              "                                                     [key], {});\n",
              "          if (!dataTable) return;\n",
              "\n",
              "          const docLinkHtml = 'Like what you see? Visit the ' +\n",
              "            '<a target=\"_blank\" href=https://colab.research.google.com/notebooks/data_table.ipynb>data table notebook</a>'\n",
              "            + ' to learn more about interactive tables.';\n",
              "          element.innerHTML = '';\n",
              "          dataTable['output_type'] = 'display_data';\n",
              "          await google.colab.output.renderOutput(dataTable, element);\n",
              "          const docLink = document.createElement('div');\n",
              "          docLink.innerHTML = docLinkHtml;\n",
              "          element.appendChild(docLink);\n",
              "        }\n",
              "      </script>\n",
              "    </div>\n",
              "  </div>\n",
              "  "
            ]
          },
          "metadata": {}
        }
      ]
    },
    {
      "cell_type": "code",
      "source": [
        "import pandas as pd\n",
        "df=pd.read_excel(r'/content/drive/MyDrive/Colab Notebooks/EMPLOYE317.xlsx')\n",
        "print(df)\n",
        "df['AGE'].mean()\n"
      ],
      "metadata": {
        "colab": {
          "base_uri": "https://localhost:8080/"
        },
        "id": "s6YQ0DSBAFSA",
        "outputId": "704586ce-c97d-4a6b-c9ff-884a80a1f9d1"
      },
      "execution_count": null,
      "outputs": [
        {
          "output_type": "stream",
          "name": "stdout",
          "text": [
            "    SR.NO  EMPLOYE ID EMPLOYE NAME        DOB  AGE\n",
            "0       1         101        JAMES 1983-08-11   39\n",
            "1       2         102       ROBERT 1986-05-13   36\n",
            "2       3         103         JHON 1996-06-01   26\n",
            "3       4         104      MICHAEL 1989-07-23   33\n",
            "4       5         105        DAVID 1984-07-28   38\n",
            "5       6         106     WILLIAM  1990-06-13   32\n",
            "6       7         107      RICHARD 1987-10-18   35\n",
            "7       8         108       JOSHEP 1992-02-11   31\n",
            "8       9         109       THOMAS 1986-12-29   26\n",
            "9      10         110      CHARLES 1982-08-13   36\n",
            "10     11         111       DANIEL 1992-09-13   40\n",
            "11     12         112          ROY 1992-01-19   30\n",
            "12     13         113         MARK 1982-07-23   31\n",
            "13     14         114        PAUL  1982-10-10   40\n",
            "14     15         115       STEVEN 1983-05-05   40\n",
            "15     16         116          TOM 1984-06-12   39\n",
            "16     17         117        JERRY 1989-12-07   33\n",
            "17     18         118     DOREMON' 1989-01-08   33\n",
            "18     19         119      MR.BEAN 1985-03-28   38\n",
            "19     20         120         OGGY 1992-12-12   31\n"
          ]
        },
        {
          "output_type": "execute_result",
          "data": {
            "text/plain": [
              "34.35"
            ]
          },
          "metadata": {},
          "execution_count": 12
        }
      ]
    },
    {
      "cell_type": "code",
      "source": [
        "import pandas as pd\n",
        "df=pd.read_excel(r'/content/drive/MyDrive/Colab Notebooks/EMPLOYE317.xlsx')\n",
        "print(df)\n",
        "\n",
        "df['AGE'].mode()\n"
      ],
      "metadata": {
        "colab": {
          "base_uri": "https://localhost:8080/"
        },
        "id": "33TDuHz5B7dX",
        "outputId": "18d6b2dd-cbaa-405e-9d26-176afa43f426"
      },
      "execution_count": null,
      "outputs": [
        {
          "output_type": "stream",
          "name": "stdout",
          "text": [
            "    SR.NO  EMPLOYE ID EMPLOYE NAME        DOB  AGE\n",
            "0       1         101        JAMES 1983-08-11   39\n",
            "1       2         102       ROBERT 1986-05-13   36\n",
            "2       3         103         JHON 1996-06-01   26\n",
            "3       4         104      MICHAEL 1989-07-23   33\n",
            "4       5         105        DAVID 1984-07-28   38\n",
            "5       6         106     WILLIAM  1990-06-13   32\n",
            "6       7         107      RICHARD 1987-10-18   35\n",
            "7       8         108       JOSHEP 1992-02-11   31\n",
            "8       9         109       THOMAS 1986-12-29   26\n",
            "9      10         110      CHARLES 1982-08-13   36\n",
            "10     11         111       DANIEL 1992-09-13   40\n",
            "11     12         112          ROY 1992-01-19   30\n",
            "12     13         113         MARK 1982-07-23   31\n",
            "13     14         114        PAUL  1982-10-10   40\n",
            "14     15         115       STEVEN 1983-05-05   40\n",
            "15     16         116          TOM 1984-06-12   39\n",
            "16     17         117        JERRY 1989-12-07   33\n",
            "17     18         118     DOREMON' 1989-01-08   33\n",
            "18     19         119      MR.BEAN 1985-03-28   38\n",
            "19     20         120         OGGY 1992-12-12   31\n"
          ]
        },
        {
          "output_type": "execute_result",
          "data": {
            "text/plain": [
              "0    31\n",
              "1    33\n",
              "2    40\n",
              "Name: AGE, dtype: int64"
            ]
          },
          "metadata": {},
          "execution_count": 13
        }
      ]
    },
    {
      "cell_type": "code",
      "source": [
        "import pandas as pd\n",
        "df=pd.read_excel(r'/content/drive/MyDrive/Colab Notebooks/EMPLOYE317.xlsx')\n",
        "print(df)\n",
        "\n",
        "df['AGE'].median()"
      ],
      "metadata": {
        "id": "f6XR_byYB_gP",
        "outputId": "364000ae-bdc1-46b4-9b80-5613ff5409ca",
        "colab": {
          "base_uri": "https://localhost:8080/"
        }
      },
      "execution_count": null,
      "outputs": [
        {
          "output_type": "stream",
          "name": "stdout",
          "text": [
            "    SR.NO  EMPLOYE ID EMPLOYE NAME        DOB  AGE\n",
            "0       1         101        JAMES 1983-08-11   39\n",
            "1       2         102       ROBERT 1986-05-13   36\n",
            "2       3         103         JHON 1996-06-01   26\n",
            "3       4         104      MICHAEL 1989-07-23   33\n",
            "4       5         105        DAVID 1984-07-28   38\n",
            "5       6         106     WILLIAM  1990-06-13   32\n",
            "6       7         107      RICHARD 1987-10-18   35\n",
            "7       8         108       JOSHEP 1992-02-11   31\n",
            "8       9         109       THOMAS 1986-12-29   26\n",
            "9      10         110      CHARLES 1982-08-13   36\n",
            "10     11         111       DANIEL 1992-09-13   40\n",
            "11     12         112          ROY 1992-01-19   30\n",
            "12     13         113         MARK 1982-07-23   31\n",
            "13     14         114        PAUL  1982-10-10   40\n",
            "14     15         115       STEVEN 1983-05-05   40\n",
            "15     16         116          TOM 1984-06-12   39\n",
            "16     17         117        JERRY 1989-12-07   33\n",
            "17     18         118     DOREMON' 1989-01-08   33\n",
            "18     19         119      MR.BEAN 1985-03-28   38\n",
            "19     20         120         OGGY 1992-12-12   31\n"
          ]
        },
        {
          "output_type": "execute_result",
          "data": {
            "text/plain": [
              "34.0"
            ]
          },
          "metadata": {},
          "execution_count": 14
        }
      ]
    },
    {
      "cell_type": "code",
      "source": [
        "import pandas as pd\n",
        "import matplotlib.pyplot as plt\n",
        "\n",
        "df=pd.read_excel(r'/content/drive/MyDrive/Colab Notebooks/EMPLOYE317.xlsx')\n",
        "plt.pie(df['AGE']),labels=df['EMPLOYE NAME'])\n",
        "plt.show()\n",
        "\n"
      ],
      "metadata": {
        "colab": {
          "base_uri": "https://localhost:8080/",
          "height": 135
        },
        "id": "XYGzmlQPCwZr",
        "outputId": "5c85a535-cb7b-4e2d-cee5-a836fd76b831"
      },
      "execution_count": null,
      "outputs": [
        {
          "output_type": "error",
          "ename": "SyntaxError",
          "evalue": "ignored",
          "traceback": [
            "\u001b[0;36m  File \u001b[0;32m\"<ipython-input-16-b7d773bec7d3>\"\u001b[0;36m, line \u001b[0;32m5\u001b[0m\n\u001b[0;31m    plt.pie(df['AGE']),labels=df['EMPLOYE NAME'])\u001b[0m\n\u001b[0m    ^\u001b[0m\n\u001b[0;31mSyntaxError\u001b[0m\u001b[0;31m:\u001b[0m cannot assign to function call\n"
          ]
        }
      ]
    },
    {
      "cell_type": "code",
      "source": [
        "#priogram without lambda\n",
        "def get_cube(num):\n",
        "  return num*num*num\n",
        "print(get_cube(5))"
      ],
      "metadata": {
        "colab": {
          "base_uri": "https://localhost:8080/"
        },
        "id": "tSQzMGHFvfTc",
        "outputId": "7bf06f06-34e8-4dce-ca80-dee26fe5f74a"
      },
      "execution_count": null,
      "outputs": [
        {
          "output_type": "stream",
          "name": "stdout",
          "text": [
            "125\n"
          ]
        }
      ]
    },
    {
      "cell_type": "code",
      "source": [
        "#program with lambda\n",
        "#lamb\n",
        "cube=lambda num:num*num*num\n",
        "print(cube(5))"
      ],
      "metadata": {
        "colab": {
          "base_uri": "https://localhost:8080/"
        },
        "id": "fzkJWHAlyBJL",
        "outputId": "f15d1094-0390-4f2c-8042-0f99db5a3d52"
      },
      "execution_count": null,
      "outputs": [
        {
          "output_type": "stream",
          "name": "stdout",
          "text": [
            "125\n"
          ]
        }
      ]
    },
    {
      "cell_type": "code",
      "source": [
        "#dictionary operation\n",
        "dict1 = {\"ABC\":2742023,\"EDF\":89}\n",
        "print(dict1)\n",
        "\n",
        "print(dict1.keys())\n",
        "\n",
        "print(dict1.values())\n",
        "\n",
        "dict1.update({\"SCE\":8-9-2022})\n",
        "print(dict1)\n",
        "\n",
        "a=dict1.__len__()\n",
        "print(a)\n",
        "\n",
        "dict1.pop(\"SCE\")\n",
        "print(dict1)\n"
      ],
      "metadata": {
        "colab": {
          "base_uri": "https://localhost:8080/"
        },
        "id": "CgXnkAQlyE7n",
        "outputId": "3073df94-f275-4696-82d9-c723c7ca215d"
      },
      "execution_count": null,
      "outputs": [
        {
          "output_type": "stream",
          "name": "stdout",
          "text": [
            "{'ABC': 2742023, 'EDF': 89}\n",
            "dict_keys(['ABC', 'EDF'])\n",
            "dict_values([2742023, 89])\n",
            "{'ABC': 2742023, 'EDF': 89, 'SCE': -2023}\n",
            "3\n",
            "{'ABC': 2742023, 'EDF': 89}\n"
          ]
        }
      ]
    },
    {
      "cell_type": "code",
      "source": [
        "def list():\n",
        " ls1 = [15,20,30,35]\n",
        " ls2 = [99,44,13,56]\n",
        " ls = ls1 + ls2\n",
        " print(ls)\n",
        "list()"
      ],
      "metadata": {
        "colab": {
          "base_uri": "https://localhost:8080/"
        },
        "id": "UXVX2u-uVdJK",
        "outputId": "02ddd332-3318-4c12-a21f-91f8f078da21"
      },
      "execution_count": null,
      "outputs": [
        {
          "output_type": "stream",
          "name": "stdout",
          "text": [
            "[15, 20, 30, 35, 99, 44, 13, 56]\n"
          ]
        }
      ]
    },
    {
      "cell_type": "code",
      "source": [
        "def merge():\n",
        " ls1 = [\"sahil\",\"sudarshan\",\"prasad\",\"shambhu\"]\n",
        " ls2 = [99,44,113,56]\n",
        " ls = ls1 + ls2\n",
        " print(ls)\n",
        "merge()"
      ],
      "metadata": {
        "colab": {
          "base_uri": "https://localhost:8080/"
        },
        "id": "nyX3R-aebD_h",
        "outputId": "d6504521-f564-4832-ee27-e9557c9eda68"
      },
      "execution_count": null,
      "outputs": [
        {
          "output_type": "stream",
          "name": "stdout",
          "text": [
            "['sahil', 'sudarshan', 'prasad', 'shambhu', 99, 44, 113, 56]\n"
          ]
        }
      ]
    },
    {
      "cell_type": "code",
      "source": [
        "import pandas as pd\n",
        "from datetime import datetime, date\n",
        "dob =  {'DOB' : ['1/5/1990','31/10/2003','27/4/2022']}\n",
        "df = pd.DataFrame(data = dob)\n",
        "def age(born):\n",
        "  born = datetime.strptime(born, \"%d/%m/%Y\").date()\n",
        "  today = date.today()\n",
        "  return today.year - born.year -((today.month,today.day)<(born.month,born.day))\n",
        "df['AGE'] = df['DOB'].apply(age)\n",
        "display(df)"
      ],
      "metadata": {
        "colab": {
          "base_uri": "https://localhost:8080/",
          "height": 129
        },
        "id": "tasNN85ZcAUE",
        "outputId": "d65f0fa4-7bc0-4b44-bbeb-df6be9b827c4"
      },
      "execution_count": null,
      "outputs": [
        {
          "output_type": "display_data",
          "data": {
            "text/plain": [
              "          DOB  AGE\n",
              "0    1/5/1990   32\n",
              "1  31/10/2003   19\n",
              "2   27/4/2022    1"
            ],
            "text/html": [
              "\n",
              "  <div id=\"df-aa18a13d-007f-45ca-a732-9e6aadf741bd\">\n",
              "    <div class=\"colab-df-container\">\n",
              "      <div>\n",
              "<style scoped>\n",
              "    .dataframe tbody tr th:only-of-type {\n",
              "        vertical-align: middle;\n",
              "    }\n",
              "\n",
              "    .dataframe tbody tr th {\n",
              "        vertical-align: top;\n",
              "    }\n",
              "\n",
              "    .dataframe thead th {\n",
              "        text-align: right;\n",
              "    }\n",
              "</style>\n",
              "<table border=\"1\" class=\"dataframe\">\n",
              "  <thead>\n",
              "    <tr style=\"text-align: right;\">\n",
              "      <th></th>\n",
              "      <th>DOB</th>\n",
              "      <th>AGE</th>\n",
              "    </tr>\n",
              "  </thead>\n",
              "  <tbody>\n",
              "    <tr>\n",
              "      <th>0</th>\n",
              "      <td>1/5/1990</td>\n",
              "      <td>32</td>\n",
              "    </tr>\n",
              "    <tr>\n",
              "      <th>1</th>\n",
              "      <td>31/10/2003</td>\n",
              "      <td>19</td>\n",
              "    </tr>\n",
              "    <tr>\n",
              "      <th>2</th>\n",
              "      <td>27/4/2022</td>\n",
              "      <td>1</td>\n",
              "    </tr>\n",
              "  </tbody>\n",
              "</table>\n",
              "</div>\n",
              "      <button class=\"colab-df-convert\" onclick=\"convertToInteractive('df-aa18a13d-007f-45ca-a732-9e6aadf741bd')\"\n",
              "              title=\"Convert this dataframe to an interactive table.\"\n",
              "              style=\"display:none;\">\n",
              "        \n",
              "  <svg xmlns=\"http://www.w3.org/2000/svg\" height=\"24px\"viewBox=\"0 0 24 24\"\n",
              "       width=\"24px\">\n",
              "    <path d=\"M0 0h24v24H0V0z\" fill=\"none\"/>\n",
              "    <path d=\"M18.56 5.44l.94 2.06.94-2.06 2.06-.94-2.06-.94-.94-2.06-.94 2.06-2.06.94zm-11 1L8.5 8.5l.94-2.06 2.06-.94-2.06-.94L8.5 2.5l-.94 2.06-2.06.94zm10 10l.94 2.06.94-2.06 2.06-.94-2.06-.94-.94-2.06-.94 2.06-2.06.94z\"/><path d=\"M17.41 7.96l-1.37-1.37c-.4-.4-.92-.59-1.43-.59-.52 0-1.04.2-1.43.59L10.3 9.45l-7.72 7.72c-.78.78-.78 2.05 0 2.83L4 21.41c.39.39.9.59 1.41.59.51 0 1.02-.2 1.41-.59l7.78-7.78 2.81-2.81c.8-.78.8-2.07 0-2.86zM5.41 20L4 18.59l7.72-7.72 1.47 1.35L5.41 20z\"/>\n",
              "  </svg>\n",
              "      </button>\n",
              "      \n",
              "  <style>\n",
              "    .colab-df-container {\n",
              "      display:flex;\n",
              "      flex-wrap:wrap;\n",
              "      gap: 12px;\n",
              "    }\n",
              "\n",
              "    .colab-df-convert {\n",
              "      background-color: #E8F0FE;\n",
              "      border: none;\n",
              "      border-radius: 50%;\n",
              "      cursor: pointer;\n",
              "      display: none;\n",
              "      fill: #1967D2;\n",
              "      height: 32px;\n",
              "      padding: 0 0 0 0;\n",
              "      width: 32px;\n",
              "    }\n",
              "\n",
              "    .colab-df-convert:hover {\n",
              "      background-color: #E2EBFA;\n",
              "      box-shadow: 0px 1px 2px rgba(60, 64, 67, 0.3), 0px 1px 3px 1px rgba(60, 64, 67, 0.15);\n",
              "      fill: #174EA6;\n",
              "    }\n",
              "\n",
              "    [theme=dark] .colab-df-convert {\n",
              "      background-color: #3B4455;\n",
              "      fill: #D2E3FC;\n",
              "    }\n",
              "\n",
              "    [theme=dark] .colab-df-convert:hover {\n",
              "      background-color: #434B5C;\n",
              "      box-shadow: 0px 1px 3px 1px rgba(0, 0, 0, 0.15);\n",
              "      filter: drop-shadow(0px 1px 2px rgba(0, 0, 0, 0.3));\n",
              "      fill: #FFFFFF;\n",
              "    }\n",
              "  </style>\n",
              "\n",
              "      <script>\n",
              "        const buttonEl =\n",
              "          document.querySelector('#df-aa18a13d-007f-45ca-a732-9e6aadf741bd button.colab-df-convert');\n",
              "        buttonEl.style.display =\n",
              "          google.colab.kernel.accessAllowed ? 'block' : 'none';\n",
              "\n",
              "        async function convertToInteractive(key) {\n",
              "          const element = document.querySelector('#df-aa18a13d-007f-45ca-a732-9e6aadf741bd');\n",
              "          const dataTable =\n",
              "            await google.colab.kernel.invokeFunction('convertToInteractive',\n",
              "                                                     [key], {});\n",
              "          if (!dataTable) return;\n",
              "\n",
              "          const docLinkHtml = 'Like what you see? Visit the ' +\n",
              "            '<a target=\"_blank\" href=https://colab.research.google.com/notebooks/data_table.ipynb>data table notebook</a>'\n",
              "            + ' to learn more about interactive tables.';\n",
              "          element.innerHTML = '';\n",
              "          dataTable['output_type'] = 'display_data';\n",
              "          await google.colab.output.renderOutput(dataTable, element);\n",
              "          const docLink = document.createElement('div');\n",
              "          docLink.innerHTML = docLinkHtml;\n",
              "          element.appendChild(docLink);\n",
              "        }\n",
              "      </script>\n",
              "    </div>\n",
              "  </div>\n",
              "  "
            ]
          },
          "metadata": {}
        }
      ]
    },
    {
      "cell_type": "code",
      "source": [
        "import numpy as np\n",
        "x = np.array([1,2,3,4,5,6])\n",
        "y = np.array([7,8,9])\n",
        "X=x.reshape(2,3)\n",
        "print(\"X =\",X)\n",
        "print(\"/n y =\",y)\n",
        "z=X+y\n",
        "print(\"X + y =\",z)"
      ],
      "metadata": {
        "colab": {
          "base_uri": "https://localhost:8080/"
        },
        "id": "S0b3czgCkmHl",
        "outputId": "ef9bbb7d-ea8a-4053-a170-ce5ff124e38c"
      },
      "execution_count": null,
      "outputs": [
        {
          "output_type": "stream",
          "name": "stdout",
          "text": [
            "X = [[1 2 3]\n",
            " [4 5 6]]\n",
            "/n y = [7 8 9]\n",
            "X + y = [[ 8 10 12]\n",
            " [11 13 15]]\n"
          ]
        }
      ]
    },
    {
      "cell_type": "code",
      "source": [
        "\n",
        "z\n",
        "df1 = pd.read_csv(\"/content/drive/MyDrive/ESD1/exmp2.csv\")\n",
        "df2 = pd.merge(df,df1,on = \"ID\")\n",
        "df2.to_csv(\"EmployeesDetails.csv\",index = False)\n",
        "merged_df =pd.read_csv('/content/EmployeesDetails.csv')\n",
        "print(merged_df)\n",
        "avg = merged_df.mean()\n",
        "max = merged_df.max()\n",
        "min = merged_df.min()\n",
        "count = merged_df.count()\n",
        "sum = merged_df.sum()\n",
        "percent = merged_df.mean() / merged_df.count() * 100\n",
        "# RESULTS\n",
        "print(\"Average:\\n\", avg)\n",
        "print(\"Max:\\n\", max)\n",
        "print(\"Min:\\n\", min)\n",
        "print(\"Count:\\n\", count)\n",
        "print(\"Sum:\\n\", sum)\n",
        "print(\"Percentage:\\n\", percent)"
      ],
      "metadata": {
        "colab": {
          "base_uri": "https://localhost:8080/"
        },
        "id": "sbfcOqe-YmN_",
        "outputId": "5c85bcc1-1fb3-4b42-8576-6aebf48180d2"
      },
      "execution_count": null,
      "outputs": [
        {
          "output_type": "stream",
          "name": "stdout",
          "text": [
            "   ID       Name  Work Experience                   Role   Salary\n",
            "0   1   Om Borle                5                     HR  1025000\n",
            "1   2  Om Bhoyar                3  Jr. Backend Developer   780000\n",
            "2   3   Subbudha                4         Product Tester   890000\n",
            "3   4    Shambhu                4     Frontend Developer   700000\n",
            "4   5      Vijay                3       Quality Incharge   650000\n",
            "5   6     Prasad                5                Manager   850000\n",
            "6   7      Sahil                4          Risk Analyser   710000\n",
            "7   8    Apporva                6   Full Stack Developer   650000\n",
            "8   9  Sudarshan                3              Recruiter   412000\n",
            "9  10     Pranay                4          Data enginner   900000\n",
            "Average:\n",
            " ID                      5.5\n",
            "Work Experience         4.1\n",
            "Salary             756700.0\n",
            "dtype: float64\n",
            "Max:\n",
            " ID                            10\n",
            "Name                       Vijay\n",
            "Work Experience                6\n",
            "Role               Risk Analyser\n",
            "Salary                   1025000\n",
            "dtype: object\n",
            "Min:\n",
            " ID                             1\n",
            "Name                    Om Borle\n",
            "Work Experience                3\n",
            "Role               Data enginner\n",
            "Salary                    412000\n",
            "dtype: object\n",
            "Count:\n",
            " ID                 10\n",
            "Name               10\n",
            "Work Experience    10\n",
            "Role               10\n",
            "Salary             10\n",
            "dtype: int64\n",
            "Sum:\n",
            " ID                                                                55\n",
            "Name                Om BorleOm BhoyarSubbudhaShambhuVijayPrasadSa...\n",
            "Work Experience                                                   41\n",
            "Role               HRJr. Backend DeveloperProduct TesterFrontend ...\n",
            "Salary                                                       7567000\n",
            "dtype: object\n",
            "Percentage:\n",
            " ID                      55.0\n",
            "Name                     NaN\n",
            "Role                     NaN\n",
            "Salary             7567000.0\n",
            "Work Experience         41.0\n",
            "dtype: float64\n"
          ]
        },
        {
          "output_type": "stream",
          "name": "stderr",
          "text": [
            "<ipython-input-1-74e7dab7f379>:8: FutureWarning: The default value of numeric_only in DataFrame.mean is deprecated. In a future version, it will default to False. In addition, specifying 'numeric_only=None' is deprecated. Select only valid columns or specify the value of numeric_only to silence this warning.\n",
            "  avg = merged_df.mean()\n",
            "<ipython-input-1-74e7dab7f379>:13: FutureWarning: The default value of numeric_only in DataFrame.mean is deprecated. In a future version, it will default to False. In addition, specifying 'numeric_only=None' is deprecated. Select only valid columns or specify the value of numeric_only to silence this warning.\n",
            "  percent = merged_df.mean() / merged_df.count() * 100\n"
          ]
        }
      ]
    },
    {
      "cell_type": "code",
      "source": [
        "from google.colab import drive\n",
        "drive.mount('/content/drive')"
      ],
      "metadata": {
        "id": "r136d1nYYyMU"
      },
      "execution_count": null,
      "outputs": []
    },
    {
      "cell_type": "code",
      "source": [
        "#python modules\n",
        "#modules is filecontaing a set of function you want to include is your application\n",
        "\n",
        "#import math libary\n",
        "import math\n",
        "#return the value of 9 raised to the power of 3\n",
        "print(math.pow(9, 3))"
      ],
      "metadata": {
        "colab": {
          "base_uri": "https://localhost:8080/"
        },
        "id": "sGwPqd9an3ou",
        "outputId": "a6ecfe2e-d8d6-441b-8244-315ee3001f7f"
      },
      "execution_count": null,
      "outputs": [
        {
          "output_type": "stream",
          "name": "stdout",
          "text": [
            "729.0\n"
          ]
        }
      ]
    },
    {
      "cell_type": "code",
      "source": [
        "#itertool in python\n",
        "from itertools import count\n",
        "\n",
        "for number in count (start=5,step=3):\n",
        "\n",
        " if number > 10:\n",
        "  break\n",
        "  print(number)"
      ],
      "metadata": {
        "id": "zRS5zs8sp-55"
      },
      "execution_count": null,
      "outputs": []
    },
    {
      "cell_type": "code",
      "source": [
        "#pyhon implement decimal number as double\n",
        "#precision flpting point number which\n",
        "#are machine depedent\n",
        "import decimal\n",
        "float_division=4/3\n",
        "decimal_devision=decimal.Decimal(4)/decimal.Decimal(3)\n",
        "print(\"result for float division of 4 by 3:\")\n",
        "print(float_division)\n",
        "print(\"result for decimal division of 4 by 3:\")\n",
        "print(decimal_devision)"
      ],
      "metadata": {
        "colab": {
          "base_uri": "https://localhost:8080/"
        },
        "id": "LtSa-w9srNk3",
        "outputId": "0f8ef7ed-f79d-4e8c-8404-ae9d8fa35adf"
      },
      "execution_count": null,
      "outputs": [
        {
          "output_type": "stream",
          "name": "stdout",
          "text": [
            "result for float division of 4 by 3:\n",
            "1.3333333333333333\n",
            "result for decimal division of 4 by 3:\n",
            "1.333333333333333333333333333\n"
          ]
        }
      ]
    },
    {
      "cell_type": "code",
      "source": [
        "fraction this module provides support for rational\n",
        "#number , decimal and string.\n",
        "from fractions import Fraction\n",
        "print (fraction(84,21))\n",
        "\n",
        "\n",
        "print (fraction(81,7))\n",
        "\n",
        "print (fraction(23,37))"
      ],
      "metadata": {
        "colab": {
          "base_uri": "https://localhost:8080/",
          "height": 130
        },
        "id": "gWRjg5SZuhFh",
        "outputId": "4ddbd81b-e997-463e-adb0-e2ad0b6c9bf3"
      },
      "execution_count": null,
      "outputs": [
        {
          "output_type": "error",
          "ename": "SyntaxError",
          "evalue": "ignored",
          "traceback": [
            "\u001b[0;36m  File \u001b[0;32m\"<ipython-input-13-a977160e6bbb>\"\u001b[0;36m, line \u001b[0;32m1\u001b[0m\n\u001b[0;31m    fraction this module provides support for rational\u001b[0m\n\u001b[0m             ^\u001b[0m\n\u001b[0;31mSyntaxError\u001b[0m\u001b[0;31m:\u001b[0m invalid syntax\n"
          ]
        }
      ]
    },
    {
      "cell_type": "code",
      "source": [
        "set={1,True,False}\n",
        "print(set)"
      ],
      "metadata": {
        "colab": {
          "base_uri": "https://localhost:8080/"
        },
        "id": "9zjt6ta6Jx07",
        "outputId": "efdf4e8d-8c6c-4172-d32a-ee951fc14a43"
      },
      "execution_count": null,
      "outputs": [
        {
          "output_type": "stream",
          "name": "stdout",
          "text": [
            "{False, 1}\n"
          ]
        }
      ]
    },
    {
      "cell_type": "code",
      "source": [
        "#Importing libraries that will be used\n",
        "import numpy as np\n",
        "\n",
        "# Setting name of the file that the data is to be extracted from in python\n",
        "filename = '/content/drive/MyDrive/Prajakta.txt'\n",
        "\n",
        "# Loading file data into numpy array and storing it in variable called data_colle data collected\n",
        "np.loadtxt (filename)\n",
        "\n",
        "# Printing data stored\n",
        "print(data_collected)\n",
        "\n",
        "# Type of data\n",
        "\n",
        "print(f'Stored in: {type(data_collected)} and data type is: {data_collected.dtype"
      ],
      "metadata": {
        "id": "_-yt2M-TTPkp"
      },
      "execution_count": null,
      "outputs": []
    },
    {
      "cell_type": "code",
      "source": [
        "# Array operations in python\n",
        "\n",
        "import pandas as pd\n",
        "\n",
        "import numpy as np\n",
        "\n",
        "df = pd.read_excel('/content/drive/MyDrive/t1.xlsx')\n",
        "\n",
        "df1 = pd.read_excel('/content/drive/MyDrive/t2.xlsx', header = None)\n",
        "\n",
        "array = df.to_numpy() array1 = df1.to_numpy()\n",
        "\n",
        "print (array) print(array1)\n",
        "\n",
        "C[[1 A 25]\n",
        "\n",
        "[2 A 26] [3 A 27]\n",
        "\n",
        "14 A 28] IS A 29]"
      ],
      "metadata": {
        "id": "mLXBYSV2cFZe"
      },
      "execution_count": null,
      "outputs": []
    },
    {
      "cell_type": "code",
      "source": [
        "import pandas as pd\n",
        "df = pd.read_csv(r\"/content/drive/MyDrive/sahil mid sem.csv\")\n",
        "print(df)\n",
        "def display_items_with_increased_price(data):\n",
        "    for item in data:\n",
        "        if item[4] > 8500:\n",
        "            print(f\"Area: {item[1]}, Item: {item[2]}, Increased Price: {item[4]}\")\n",
        "\n"
      ],
      "metadata": {
        "id": "l-wrlNiDzFLz",
        "colab": {
          "base_uri": "https://localhost:8080/"
        },
        "outputId": "f41d5010-ee94-47ea-fea4-c803688daace"
      },
      "execution_count": null,
      "outputs": [
        {
          "output_type": "stream",
          "name": "stdout",
          "text": [
            "    sr no     area stock market  main prise  increase prise\n",
            "0       1   mumbai     computer        7410            8500\n",
            "1       2    satra       mobile        1122            2200\n",
            "2       3   sangli        sugar        1400            1600\n",
            "3       4   nagpur          fan        2000            3000\n",
            "4       5     pune       laptop        3000            4000\n",
            "5       6    alndi         bulb        5800            6500\n",
            "6       7  solapur        table        7000             850\n",
            "7       8    latur        chair        4500            6000\n",
            "8       9    thane          bat        5800            6000\n",
            "9      10    vaduj         ball        5625            6500\n",
            "10     11     wita        stamp        8400            9000\n",
            "11     12    nagar          mat        1000            1100\n",
            "12     13  swarget          bus        2200            2300\n",
            "13     14   gujrat        cloth        7700            8800\n",
            "14     15     deli        paper        1200            1300\n",
            "15     16  hadpsar       cotton        7788            8877\n",
            "16     17   palshi        mango        7894            8954\n",
            "17     18  umbrade         pede        1236            1322\n",
            "18     19  gursale       banana        4128            4255\n",
            "19     20     vede          A.C        1111            2222\n"
          ]
        }
      ]
    },
    {
      "cell_type": "code",
      "source": [
        "import pandas as pd\n",
        "df1 = pd.read_csv(r'/content/drive/MyDrive/online data.csv')\n",
        "print(df1)\n",
        "data = df1.values.tolist()\n",
        "a = df1['Runs']\n",
        "b = df1['Position']\n",
        "print(a,b)\n",
        "import matplotlib.pyplot as plt\n",
        "import numpy as np\n",
        "\n",
        "y = np.array([35, 25, 25, 15])\n",
        "\n",
        "plt.pie(y)\n",
        "plt.show()\n"
      ],
      "metadata": {
        "id": "SVXz-Uo94Kq2",
        "colab": {
          "base_uri": "https://localhost:8080/",
          "height": 1000
        },
        "outputId": "08f8a375-6b0c-4372-be3f-dc5cc608c97b"
      },
      "execution_count": null,
      "outputs": [
        {
          "output_type": "stream",
          "name": "stdout",
          "text": [
            "    No.   Runs       Against  Position  Innings  \\\n",
            "0     1    107     Sri Lanka         4        2   \n",
            "1     2  102*     Bangladesh         3        2   \n",
            "2     3    118     Australia         3        2   \n",
            "3     4    105   New Zealand         3        1   \n",
            "4     5   100*    Bangladesh         4        1   \n",
            "..  ...    ...           ...       ...      ...   \n",
            "70   71   122*   Afghanistan         2        1   \n",
            "71   72    113    Bangladesh         3        1   \n",
            "72   73    113     Sri Lanka         3        1   \n",
            "73   74  166*      Sri Lanka         3        1   \n",
            "74   75    186     Australia         4        2   \n",
            "\n",
            "                                                Venue   Ground       Date  \\\n",
            "0                               Eden Gardens, Kolkata     Home  24-Dec-09   \n",
            "1                Sher-e-Bangla Cricket Stadium, Dhaka     Away  11-Jan-10   \n",
            "2                    APCA-VDCA Stadium, Visakhapatnam     Home  20-Oct-10   \n",
            "3                             Nehru Stadium, Guwahati     Home  28-Nov-10   \n",
            "4                Sher-e-Bangla Cricket Stadium, Dhaka     Away  19-Feb-11   \n",
            "..                                                ...      ...        ...   \n",
            "70         Dubai International Cricket Stadium, Dubai  Neutral   8-Sep-22   \n",
            "71          Zohur Ahmed Chowdhury Stadium, Chittagong     Away  10-Dec-22   \n",
            "72                              ACA Stadium, Guwahati     Home  10-Jan-23   \n",
            "73  Greenfield International Stadium, Thiruvananth...     Home  15-Jan-23   \n",
            "74                   Narendra Modi Stadium, Ahmedabad     Home   9-Mar-23   \n",
            "\n",
            "   Result  \n",
            "0     Won  \n",
            "1     Won  \n",
            "2     Won  \n",
            "3     Won  \n",
            "4     Won  \n",
            "..    ...  \n",
            "70    Won  \n",
            "71    Won  \n",
            "72    Won  \n",
            "73    Won  \n",
            "74  Drawn  \n",
            "\n",
            "[75 rows x 9 columns]\n",
            "0       107\n",
            "1     102* \n",
            "2       118\n",
            "3       105\n",
            "4      100*\n",
            "      ...  \n",
            "70     122*\n",
            "71      113\n",
            "72      113\n",
            "73    166* \n",
            "74      186\n",
            "Name: Runs, Length: 75, dtype: object 0     4\n",
            "1     3\n",
            "2     3\n",
            "3     3\n",
            "4     4\n",
            "     ..\n",
            "70    2\n",
            "71    3\n",
            "72    3\n",
            "73    3\n",
            "74    4\n",
            "Name: Position, Length: 75, dtype: int64\n"
          ]
        },
        {
          "output_type": "display_data",
          "data": {
            "text/plain": [
              "<Figure size 400x250 with 1 Axes>"
            ],
            "image/png": "[encoded data removed]"
          },
          "metadata": {}
        }
      ]
    },
    {
      "cell_type": "markdown",
      "source": [],
      "metadata": {
        "id": "db3yrmpKruxN"
      }
    },
    {
      "cell_type": "code",
      "source": [
        "import pandas as pd\n",
        "from matplotlib import pyplot as plt\n",
        "plt.rcParams[\"figure.figsize\"] = [4.00, 2.50]\n",
        "plt.rcParams[\"figure.autolayout\"] = True\n",
        "columns = [\"Against\", \"Runs\"]\n",
        "df=pd.read_csv(r'/content/drive/MyDrive/online data.csv')\n",
        "plt.plot(df.Runs, df.Against)\n",
        "plt.show()"
      ],
      "metadata": {
        "colab": {
          "base_uri": "https://localhost:8080/",
          "height": 257
        },
        "id": "6UbBgOJsi6-f",
        "outputId": "a22a42ec-dab0-4d2f-abaf-a91e123151fe"
      },
      "execution_count": null,
      "outputs": [
        {
          "output_type": "display_data",
          "data": {
            "text/plain": [
              "<Figure size 400x250 with 1 Axes>"
            ],
            "image/png": "[encoded data removed]"
          },
          "metadata": {}
        }
      ]
    },
    {
      "cell_type": "code",
      "source": [],
      "metadata": {
        "id": "hMfe0kC0kiQ5"
      },
      "execution_count": null,
      "outputs": []
    },
    {
      "cell_type": "markdown",
      "source": [],
      "metadata": {
        "id": "BdGt53f1r0LF"
      }
    },
    {
      "cell_type": "markdown",
      "source": [],
      "metadata": {
        "id": "0noX9Zoyr0TE"
      }
    },
    {
      "cell_type": "markdown",
      "source": [],
      "metadata": {
        "id": "VFYVRuGRr0aT"
      }
    },
    {
      "cell_type": "markdown",
      "source": [],
      "metadata": {
        "id": "Oj2n5mXar0fz"
      }
    },
    {
      "cell_type": "markdown",
      "source": [],
      "metadata": {
        "id": "UUyQz8iSr0jk"
      }
    },
    {
      "cell_type": "markdown",
      "source": [],
      "metadata": {
        "id": "rk7-wzolr0ms"
      }
    },
    {
      "cell_type": "markdown",
      "source": [],
      "metadata": {
        "id": "9cnH2koCr0qK"
      }
    },
    {
      "cell_type": "code",
      "source": [
        "def list():\n",
        " ls1 = [15,20,30,35]\n",
        " ls2 = [99,44,13,56]\n",
        " ls = ls1 + ls2\n",
        " print(ls)\n",
        "list()"
      ],
      "metadata": {
        "colab": {
          "base_uri": "https://localhost:8080/"
        },
        "id": "3dQB1Afzr5yz",
        "outputId": "8f97804a-acf4-494e-a78a-14cd3793725b"
      },
      "execution_count": null,
      "outputs": [
        {
          "output_type": "stream",
          "name": "stdout",
          "text": [
            "[15, 20, 30, 35, 99, 44, 13, 56]\n"
          ]
        }
      ]
    },
    {
      "cell_type": "code",
      "source": [],
      "metadata": {
        "id": "apRv5TOlsDOC"
      },
      "execution_count": null,
      "outputs": []
    }
  ]
}